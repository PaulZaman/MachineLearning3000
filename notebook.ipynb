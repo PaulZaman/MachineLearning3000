{
 "cells": [
  {
   "cell_type": "markdown",
   "source": [
    "# Machine Learning to explain the price of electricity\n",
    "\n",
    "## Introduction\n",
    "In a context of rising energy prices, it is important to understand the factors that influence the price of electricity. In this project, we will use machine learning to explain the price of electricity. We will use the data given, mainly Data_X, Data_Y and DataNew_X.\n",
    "\n",
    "The objective is to predict the values for the incoming prices of electricity in Germany and France. We will use the data given to train our model and then predict the values for the incoming prices.\n",
    "\n",
    "The dataset contains the following tables:\n",
    "\n",
    "\n",
    "| ID | DAY\\_ID | COUNTRY | DE\\_CONSUMPTION | FR\\_CONSUMPTION | DE\\_FR\\_EXCHANGE | FR\\_DE\\_EXCHANGE | DE\\_NET\\_EXPORT | FR\\_NET\\_EXPORT | DE\\_NET\\_IMPORT | FR\\_NET\\_IMPORT | DE\\_GAS | FR\\_GAS | DE\\_COAL | FR\\_COAL | DE\\_HYDRO | FR\\_HYDRO | DE\\_NUCLEAR | FR\\_NUCLEAR | DE\\_SOLAR | FR\\_SOLAR | DE\\_WINDPOW | FR\\_WINDPOW | DE\\_LIGNITE | DE\\_RESIDUAL\\_LOAD | FR\\_RESIDUAL\\_LOAD | DE\\_RAIN | FR\\_RAIN | DE\\_WIND | FR\\_WIND | DE\\_TEMP | FR\\_TEMP | GAS\\_RET | COAL\\_RET | CARBON\\_RET |\n",
    "|:---|:--------|:--------|:----------------|:----------------|:-----------------|:-----------------|:----------------|:----------------|:----------------|:----------------|:--------|:--------|:---------|:---------|:----------|:----------|:------------|:------------|:----------|:----------|:------------|:------------|:------------|:-------------------|:-------------------|:---------|:---------|:---------|:---------|:---------|:---------|:---------|:----------|:------------|\n",
    "| .. | ..      | ..      | ..              | ..              | ..               | ..               | ..              | ..              | ..              | ..              | ..      | ..      | ..       | ..       | ..        | ..        | ..          | ..          | ..        | ..        | ..          | ..          | ..          | ..                 | ..                 | ..       | ..       | ..       | ..       | ..       | ..       | ..       | ..        | ..          |..                  |\n",
    "\n",
    "Each line contains data about price variations of electricity in Germany and France. It contains prices of various energies such as gas, carbon and even coal. So, how are we going to predict"
   ],
   "metadata": {
    "collapsed": false
   }
  },
  {
   "cell_type": "code",
   "execution_count": null,
   "outputs": [],
   "source": [],
   "metadata": {
    "collapsed": false,
    "ExecuteTime": {
     "start_time": "2023-04-21T14:54:09.076414Z",
     "end_time": "2023-04-21T14:54:09.087403Z"
    }
   }
  },
  {
   "cell_type": "markdown",
   "source": [],
   "metadata": {
    "collapsed": false
   }
  }
 ],
 "metadata": {
  "kernelspec": {
   "display_name": "Python 3 (ipykernel)",
   "language": "python",
   "name": "python3"
  },
  "language_info": {
   "codemirror_mode": {
    "name": "ipython",
    "version": 3
   },
   "file_extension": ".py",
   "mimetype": "text/x-python",
   "name": "python",
   "nbconvert_exporter": "python",
   "pygments_lexer": "ipython3",
   "version": "3.10.9"
  }
 },
 "nbformat": 4,
 "nbformat_minor": 1
}
